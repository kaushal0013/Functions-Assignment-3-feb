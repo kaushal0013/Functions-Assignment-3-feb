{
 "cells": [
  {
   "cell_type": "markdown",
   "id": "8072b7d0-0ec7-4ffb-90e6-658c3274ceb9",
   "metadata": {},
   "source": [
    "Q1. Which keyword is used to create a function? Create a function to return a list of odd numbers in the\n",
    "range of 1 to 25."
   ]
  },
  {
   "cell_type": "code",
   "execution_count": 3,
   "id": "1f5feb35-84cc-4499-b631-d27b09c657bb",
   "metadata": {},
   "outputs": [],
   "source": [
    "def find_odd_numbers():\n",
    "    odd_numbers = []\n",
    "    for number in range(1, 26):\n",
    "        if number % 2 != 0:\n",
    "            odd_numbers.append(number)\n",
    "    return odd_numbers\n",
    "result = find_odd_numbers()"
   ]
  },
  {
   "cell_type": "code",
   "execution_count": 4,
   "id": "364f6213-c41a-4978-b0c0-f0056190b94a",
   "metadata": {},
   "outputs": [
    {
     "name": "stdout",
     "output_type": "stream",
     "text": [
      "[1, 3, 5, 7, 9, 11, 13, 15, 17, 19, 21, 23, 25]\n"
     ]
    }
   ],
   "source": [
    "print(result)"
   ]
  },
  {
   "cell_type": "code",
   "execution_count": null,
   "id": "4dad81e4-c400-41ff-b6cc-5e79075d5880",
   "metadata": {},
   "outputs": [],
   "source": []
  },
  {
   "cell_type": "markdown",
   "id": "e92f8db8-2b91-434c-af44-cb40e3a71a15",
   "metadata": {},
   "source": [
    "Q2. Why *args and **kwargs is used in some functions? Create a function each for *args and **kwargs to\n",
    "demonstrate their use."
   ]
  },
  {
   "cell_type": "code",
   "execution_count": null,
   "id": "1fcc197e-dc97-4a46-9088-886eb3fb404e",
   "metadata": {},
   "outputs": [],
   "source": [
    "## args is used to pass a variable number of non-keyword arguments to a function.\n",
    "It allows you to pass any number of positional arguments, and these arguments are collected into a tuple within the function"
   ]
  },
  {
   "cell_type": "code",
   "execution_count": 8,
   "id": "e1c482cf-3b6e-4652-a73d-63fdfade04f3",
   "metadata": {},
   "outputs": [],
   "source": [
    "def add_numbers(*args):\n",
    "    result = 0\n",
    "    for num in args:\n",
    "        result += num\n",
    "    return result"
   ]
  },
  {
   "cell_type": "code",
   "execution_count": 9,
   "id": "3381de28-1660-4f3b-97ef-61cde6b1fd6a",
   "metadata": {},
   "outputs": [
    {
     "name": "stdout",
     "output_type": "stream",
     "text": [
      "6\n"
     ]
    }
   ],
   "source": [
    "print(add_numbers(1, 2, 3))"
   ]
  },
  {
   "cell_type": "code",
   "execution_count": 10,
   "id": "02dd8dec-4b2e-42f7-b8c1-ed8b5b395130",
   "metadata": {},
   "outputs": [
    {
     "name": "stdout",
     "output_type": "stream",
     "text": [
      "60\n"
     ]
    }
   ],
   "source": [
    "print(add_numbers(10,20,30))"
   ]
  },
  {
   "cell_type": "code",
   "execution_count": null,
   "id": "e50980d8-d952-4933-ac9a-3234ec91a5d5",
   "metadata": {},
   "outputs": [],
   "source": [
    "##kwargs is used to pass a variable number of keyword arguments (key-value pairs) to a function.\n",
    "It allows you to pass any number of keyword arguments, which are then packed into a dictionary within the function.\n",
    "The name kwargs is a convention, but you can choose any valid variable name."
   ]
  },
  {
   "cell_type": "code",
   "execution_count": 12,
   "id": "c26bfafb-3480-425f-8220-4c197ae26872",
   "metadata": {},
   "outputs": [
    {
     "name": "stdout",
     "output_type": "stream",
     "text": [
      "name: Kaushal\n",
      "age: 22\n",
      "city: Pune\n"
     ]
    }
   ],
   "source": [
    "def print_info(**kwargs):\n",
    "    for key, value in kwargs.items():\n",
    "        print(f\"{key}: {value}\")\n",
    "print_info(name=\"Kaushal\", age=22, city=\"Pune\")"
   ]
  },
  {
   "cell_type": "code",
   "execution_count": null,
   "id": "239a9a96-e61a-4a90-9aad-73310eb1c2f0",
   "metadata": {},
   "outputs": [],
   "source": []
  },
  {
   "cell_type": "markdown",
   "id": "6ec2f37b-2a43-4cb0-a099-ad90d6c95e0c",
   "metadata": {},
   "source": [
    "Q3.  What is an iterator in python? Name the method used to initialise the iterator object and the method\n",
    "used for iteration. Use these methods to print the first five elements of the given list [2, 4, 6, 8, 10, 12, 14, 16,\n",
    "18, 20]."
   ]
  },
  {
   "cell_type": "code",
   "execution_count": null,
   "id": "95c4a015-4ffd-4df5-bbd3-f35daba5d38e",
   "metadata": {},
   "outputs": [],
   "source": [
    "##In Python, an iterator is an object that allows you to traverse through a collection (like a list) one element at a time. Iterators are used to loop through iterable objects, such as lists, tuples, dictionaries, and more. You can create an iterator using the iter() method, and you can iterate through the elements using the next() method."
   ]
  },
  {
   "cell_type": "code",
   "execution_count": 11,
   "id": "06b028ce-7e7e-415a-b852-e6d2f9a6d960",
   "metadata": {},
   "outputs": [
    {
     "name": "stdout",
     "output_type": "stream",
     "text": [
      "2\n",
      "4\n",
      "6\n",
      "8\n",
      "10\n"
     ]
    }
   ],
   "source": [
    "my_list = [2, 4, 6, 8, 10, 12, 14, 16, 18, 20]\n",
    "my_iterator = iter(my_list)\n",
    "for _ in range(5):\n",
    "    element = next(my_iterator)\n",
    "    print(element)\n"
   ]
  },
  {
   "cell_type": "code",
   "execution_count": null,
   "id": "aa8a7ed3-be56-4380-ac5d-2f194557e685",
   "metadata": {},
   "outputs": [],
   "source": []
  },
  {
   "cell_type": "markdown",
   "id": "18428291-bb2a-4af5-8409-93e7a5ea37ee",
   "metadata": {},
   "source": [
    "Q4.  What is a generator function in python? Why yield keyword is used? Give an example of a generator\n",
    "function"
   ]
  },
  {
   "cell_type": "code",
   "execution_count": null,
   "id": "053601bb-cce0-48de-9305-02fdb75145ec",
   "metadata": {},
   "outputs": [],
   "source": [
    "## A generator function in Python is a special type of function that allows you to generate a sequence of values lazily, one at a time, as they are needed, rather than generating all of them and storing them in memory. This makes generator functions memory-efficient and useful for working with large datasets or infinite sequences. Generator functions are defined using the yield keyword.\n",
    "\n",
    "Here's why the yield keyword is used in generator functions:\n",
    "\n",
    "Lazy Evaluation: When a generator function is called, it does not execute the entire function body immediately. Instead, it returns a generator object that can be used to iterate through the values. The function starts executing when the next() function is called on the generator, and it continues until it encounters a yield statement. At this point, it yields the value specified in the yield statement and suspends its state. When next() is called again, execution resumes from where it left off, allowing the function to continue generating values one at a time.\n",
    "\n",
    "Memory Efficiency: Since generator functions generate values on-the-fly and do not store them in memory, they are memory-efficient, especially when dealing with large datasets or infinite sequences. This is in contrast to creating a list or other data structures to store all values at once, which can lead to high memory usage."
   ]
  },
  {
   "cell_type": "code",
   "execution_count": 15,
   "id": "0df6e096-f9fd-4703-b4e3-004f11ef7ab1",
   "metadata": {},
   "outputs": [
    {
     "name": "stdout",
     "output_type": "stream",
     "text": [
      "10\n",
      "9\n",
      "8\n",
      "7\n",
      "6\n",
      "5\n",
      "4\n",
      "3\n",
      "2\n",
      "1\n"
     ]
    }
   ],
   "source": [
    "def countdown(n):\n",
    "    while n > 0:\n",
    "        yield n\n",
    "        n -= 1\n",
    "gen = countdown(10)\n",
    "for value in gen:\n",
    "    print(value)\n"
   ]
  },
  {
   "cell_type": "code",
   "execution_count": null,
   "id": "6bb0ab40-1398-4989-add5-28e9ee9dcdb8",
   "metadata": {},
   "outputs": [],
   "source": []
  },
  {
   "cell_type": "markdown",
   "id": "4a8fdacb-de5e-474a-9ab2-edfa50f14a75",
   "metadata": {},
   "source": [
    "Q5. Create a generator function for prime numbers less than 1000. Use the next() method to print the\n",
    "first 20 prime numbers."
   ]
  },
  {
   "cell_type": "code",
   "execution_count": 16,
   "id": "dd604347-c943-4113-9864-d18dac8d7e1c",
   "metadata": {},
   "outputs": [
    {
     "name": "stdout",
     "output_type": "stream",
     "text": [
      "2\n",
      "3\n",
      "5\n",
      "7\n",
      "11\n",
      "13\n",
      "17\n",
      "19\n",
      "23\n",
      "29\n",
      "31\n",
      "37\n",
      "41\n",
      "43\n",
      "47\n",
      "53\n",
      "59\n",
      "61\n",
      "67\n",
      "71\n"
     ]
    }
   ],
   "source": [
    "def is_prime(num):\n",
    "    if num <= 1:\n",
    "        return False\n",
    "    if num <= 3:\n",
    "        return True\n",
    "    if num % 2 == 0 or num % 3 == 0:\n",
    "        return False\n",
    "    i = 5\n",
    "    while i * i <= num:\n",
    "        if num % i == 0 or num % (i + 2) == 0:\n",
    "            return False\n",
    "        i += 6\n",
    "    return True\n",
    "\n",
    "def generate_primes():\n",
    "    num = 2\n",
    "    while num < 1000:\n",
    "        if is_prime(num):\n",
    "            yield num\n",
    "        num += 1\n",
    "prime_generator = generate_primes()\n",
    "for _ in range(20):\n",
    "    prime = next(prime_generator)\n",
    "    print(prime)\n"
   ]
  },
  {
   "cell_type": "code",
   "execution_count": null,
   "id": "4ce0d0ed-d31d-41ad-b9fc-03ed8fd78b58",
   "metadata": {},
   "outputs": [],
   "source": []
  },
  {
   "cell_type": "code",
   "execution_count": null,
   "id": "ce50a79f-ab9d-4d04-bb91-fe921df1158d",
   "metadata": {},
   "outputs": [],
   "source": []
  },
  {
   "cell_type": "code",
   "execution_count": null,
   "id": "8ecb0b8b-1e8f-4f37-9df0-a28a19c03e44",
   "metadata": {},
   "outputs": [],
   "source": []
  }
 ],
 "metadata": {
  "kernelspec": {
   "display_name": "Python 3 (ipykernel)",
   "language": "python",
   "name": "python3"
  },
  "language_info": {
   "codemirror_mode": {
    "name": "ipython",
    "version": 3
   },
   "file_extension": ".py",
   "mimetype": "text/x-python",
   "name": "python",
   "nbconvert_exporter": "python",
   "pygments_lexer": "ipython3",
   "version": "3.10.8"
  }
 },
 "nbformat": 4,
 "nbformat_minor": 5
}
